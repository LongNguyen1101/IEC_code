{
 "cells": [
  {
   "cell_type": "code",
   "execution_count": 14,
   "metadata": {},
   "outputs": [
    {
     "data": {
      "text/plain": [
       "<module 'config' from '/Users/longnguyen/Desktop/School/SEM6/NT114.O21_DACN/Pipeline/pre_process_pipeline/config.py'>"
      ]
     },
     "execution_count": 14,
     "metadata": {},
     "output_type": "execute_result"
    }
   ],
   "source": [
    "import importlib\n",
    "import data_cleaning_pipeline\n",
    "import encode_pipeline\n",
    "import config\n",
    "\n",
    "# Reload the module\n",
    "importlib.reload(data_cleaning_pipeline)\n",
    "importlib.reload(encode_pipeline)\n",
    "importlib.reload(config)"
   ]
  },
  {
   "cell_type": "code",
   "execution_count": 16,
   "metadata": {},
   "outputs": [
    {
     "name": "stdout",
     "output_type": "stream",
     "text": [
      "Encode category columns successful\n",
      "Impute numerical columns successful\n",
      "Scale data successful\n"
     ]
    },
    {
     "data": {
      "text/plain": [
       "True"
      ]
     },
     "execution_count": 16,
     "metadata": {},
     "output_type": "execute_result"
    }
   ],
   "source": [
    "from data_cleaning_pipeline import DataCleaningPipeline\n",
    "from config import get_config\n",
    "\n",
    "config = get_config('/Users/longnguyen/Desktop/School/SEM6/NT114.O21_DACN/Pipeline/balanced_df.csv')\n",
    "config['drop_dup'] = False\n",
    "DataCleaningPipeline(config)"
   ]
  }
 ],
 "metadata": {
  "kernelspec": {
   "display_name": "pipelinevenv",
   "language": "python",
   "name": "python3"
  },
  "language_info": {
   "codemirror_mode": {
    "name": "ipython",
    "version": 3
   },
   "file_extension": ".py",
   "mimetype": "text/x-python",
   "name": "python",
   "nbconvert_exporter": "python",
   "pygments_lexer": "ipython3",
   "version": "3.11.0"
  }
 },
 "nbformat": 4,
 "nbformat_minor": 2
}
